{
 "cells": [
  {
   "cell_type": "code",
   "execution_count": 408,
   "metadata": {},
   "outputs": [],
   "source": [
    "# Import modules\n",
    "%matplotlib inline\n",
    "import pandas as pd\n",
    "import numpy as np\n",
    "import matplotlib.pyplot as plt\n",
    "import string\n",
    "import datetime"
   ]
  },
  {
   "cell_type": "code",
   "execution_count": 409,
   "metadata": {},
   "outputs": [
    {
     "data": {
      "text/html": [
       "<div>\n",
       "<style scoped>\n",
       "    .dataframe tbody tr th:only-of-type {\n",
       "        vertical-align: middle;\n",
       "    }\n",
       "\n",
       "    .dataframe tbody tr th {\n",
       "        vertical-align: top;\n",
       "    }\n",
       "\n",
       "    .dataframe thead th {\n",
       "        text-align: right;\n",
       "    }\n",
       "</style>\n",
       "<table border=\"1\" class=\"dataframe\">\n",
       "  <thead>\n",
       "    <tr style=\"text-align: right;\">\n",
       "      <th></th>\n",
       "      <th>Expand All | Collapse All</th>\n",
       "      <th>YEAR</th>\n",
       "      <th>AMOUNT</th>\n",
       "      <th>LENDER</th>\n",
       "      <th>BORROWER</th>\n",
       "      <th>SECTOR</th>\n",
       "      <th>SENSITIVE TERRITORY OVERLAP</th>\n",
       "      <th>Country</th>\n",
       "    </tr>\n",
       "  </thead>\n",
       "  <tbody>\n",
       "    <tr>\n",
       "      <th>0</th>\n",
       "      <td>“Lar Patriota\" Infrastructure (Phase 1)</td>\n",
       "      <td>2011</td>\n",
       "      <td>$50M</td>\n",
       "      <td>CDB</td>\n",
       "      <td>Government</td>\n",
       "      <td>Transport</td>\n",
       "      <td>None Known</td>\n",
       "      <td>Angola</td>\n",
       "    </tr>\n",
       "    <tr>\n",
       "      <th>1</th>\n",
       "      <td>10-Year Oil Supply Plan (10Mt/Year), \"Oil for ...</td>\n",
       "      <td>2009</td>\n",
       "      <td>$7.0B</td>\n",
       "      <td>CDB</td>\n",
       "      <td>Petrobras</td>\n",
       "      <td>Extraction, pipelines</td>\n",
       "      <td>None Known</td>\n",
       "      <td>Brazil</td>\n",
       "    </tr>\n",
       "  </tbody>\n",
       "</table>\n",
       "</div>"
      ],
      "text/plain": [
       "                           Expand All | Collapse All  YEAR AMOUNT LENDER  \\\n",
       "0            “Lar Patriota\" Infrastructure (Phase 1)  2011   $50M    CDB   \n",
       "1  10-Year Oil Supply Plan (10Mt/Year), \"Oil for ...  2009  $7.0B    CDB   \n",
       "\n",
       "     BORROWER                 SECTOR SENSITIVE TERRITORY OVERLAP Country  \n",
       "0  Government              Transport                  None Known  Angola  \n",
       "1   Petrobras  Extraction, pipelines                  None Known  Brazil  "
      ]
     },
     "execution_count": 409,
     "metadata": {},
     "output_type": "execute_result"
    }
   ],
   "source": [
    "file_dir = 'C://Users/KyleKato/OneDrive/ut_bootcamp/Portfolio/Project/data/'\n",
    "df = pd.read_csv(f'{file_dir}chinese_debt_trap_world.csv')\n",
    "df.head(2)\n"
   ]
  },
  {
   "cell_type": "code",
   "execution_count": 410,
   "metadata": {},
   "outputs": [
    {
     "data": {
      "text/html": [
       "<div>\n",
       "<style scoped>\n",
       "    .dataframe tbody tr th:only-of-type {\n",
       "        vertical-align: middle;\n",
       "    }\n",
       "\n",
       "    .dataframe tbody tr th {\n",
       "        vertical-align: top;\n",
       "    }\n",
       "\n",
       "    .dataframe thead th {\n",
       "        text-align: right;\n",
       "    }\n",
       "</style>\n",
       "<table border=\"1\" class=\"dataframe\">\n",
       "  <thead>\n",
       "    <tr style=\"text-align: right;\">\n",
       "      <th></th>\n",
       "      <th>NAME</th>\n",
       "      <th>YEAR</th>\n",
       "      <th>AMOUNT</th>\n",
       "      <th>LENDER</th>\n",
       "      <th>BORROWER</th>\n",
       "      <th>SECTOR</th>\n",
       "      <th>SENSITIVE TERRITORY OVERLAP</th>\n",
       "      <th>Country</th>\n",
       "      <th>before</th>\n",
       "      <th>after</th>\n",
       "    </tr>\n",
       "  </thead>\n",
       "  <tbody>\n",
       "    <tr>\n",
       "      <th>0</th>\n",
       "      <td>“Lar Patriota\" Infrastructure (Phase 1)</td>\n",
       "      <td>2011</td>\n",
       "      <td>$50M</td>\n",
       "      <td>CDB</td>\n",
       "      <td>Government</td>\n",
       "      <td>Transport</td>\n",
       "      <td>None Known</td>\n",
       "      <td>Angola</td>\n",
       "      <td>$50M</td>\n",
       "      <td></td>\n",
       "    </tr>\n",
       "    <tr>\n",
       "      <th>1</th>\n",
       "      <td>10-Year Oil Supply Plan (10Mt/Year), \"Oil for ...</td>\n",
       "      <td>2009</td>\n",
       "      <td>$7.0B</td>\n",
       "      <td>CDB</td>\n",
       "      <td>Petrobras</td>\n",
       "      <td>Extraction, pipelines</td>\n",
       "      <td>None Known</td>\n",
       "      <td>Brazil</td>\n",
       "      <td>$7</td>\n",
       "      <td>0B</td>\n",
       "    </tr>\n",
       "  </tbody>\n",
       "</table>\n",
       "</div>"
      ],
      "text/plain": [
       "                                                NAME  YEAR AMOUNT LENDER  \\\n",
       "0            “Lar Patriota\" Infrastructure (Phase 1)  2011   $50M    CDB   \n",
       "1  10-Year Oil Supply Plan (10Mt/Year), \"Oil for ...  2009  $7.0B    CDB   \n",
       "\n",
       "     BORROWER                 SECTOR SENSITIVE TERRITORY OVERLAP Country  \\\n",
       "0  Government              Transport                  None Known  Angola   \n",
       "1   Petrobras  Extraction, pipelines                  None Known  Brazil   \n",
       "\n",
       "  before after  \n",
       "0   $50M        \n",
       "1     $7    0B  "
      ]
     },
     "execution_count": 410,
     "metadata": {},
     "output_type": "execute_result"
    }
   ],
   "source": [
    "df = df.rename(columns={'Expand All | Collapse All':'NAME'})\n",
    "df['Country'] = df['Country'].str.replace('Congo, Democratic Republic of the', 'Congo, Republic of the')\n",
    "df[['before','after']] = df.AMOUNT.str.split('.', expand=True)\n",
    "df['after'] = df['after'].replace(np.nan, '')\n",
    "df.head(2)"
   ]
  },
  {
   "cell_type": "code",
   "execution_count": 411,
   "metadata": {},
   "outputs": [
    {
     "name": "stderr",
     "output_type": "stream",
     "text": [
      "C:\\Users\\KyleKato\\AppData\\Roaming\\Python\\Python37\\site-packages\\ipykernel_launcher.py:1: FutureWarning: The default value of regex will change from True to False in a future version. In addition, single character regular expressions will *not* be treated as literal strings when regex=True.\n",
      "  \"\"\"Entry point for launching an IPython kernel.\n"
     ]
    },
    {
     "data": {
      "text/html": [
       "<div>\n",
       "<style scoped>\n",
       "    .dataframe tbody tr th:only-of-type {\n",
       "        vertical-align: middle;\n",
       "    }\n",
       "\n",
       "    .dataframe tbody tr th {\n",
       "        vertical-align: top;\n",
       "    }\n",
       "\n",
       "    .dataframe thead th {\n",
       "        text-align: right;\n",
       "    }\n",
       "</style>\n",
       "<table border=\"1\" class=\"dataframe\">\n",
       "  <thead>\n",
       "    <tr style=\"text-align: right;\">\n",
       "      <th></th>\n",
       "      <th>NAME</th>\n",
       "      <th>YEAR</th>\n",
       "      <th>AMOUNT</th>\n",
       "      <th>LENDER</th>\n",
       "      <th>BORROWER</th>\n",
       "      <th>SECTOR</th>\n",
       "      <th>SENSITIVE TERRITORY OVERLAP</th>\n",
       "      <th>Country</th>\n",
       "      <th>before</th>\n",
       "      <th>after</th>\n",
       "    </tr>\n",
       "  </thead>\n",
       "  <tbody>\n",
       "    <tr>\n",
       "      <th>0</th>\n",
       "      <td>“Lar Patriota\" Infrastructure (Phase 1)</td>\n",
       "      <td>2011</td>\n",
       "      <td>$50M</td>\n",
       "      <td>CDB</td>\n",
       "      <td>Government</td>\n",
       "      <td>Transport</td>\n",
       "      <td>None Known</td>\n",
       "      <td>Angola</td>\n",
       "      <td>50000</td>\n",
       "      <td></td>\n",
       "    </tr>\n",
       "    <tr>\n",
       "      <th>1</th>\n",
       "      <td>10-Year Oil Supply Plan (10Mt/Year), \"Oil for ...</td>\n",
       "      <td>2009</td>\n",
       "      <td>$7.0B</td>\n",
       "      <td>CDB</td>\n",
       "      <td>Petrobras</td>\n",
       "      <td>Extraction, pipelines</td>\n",
       "      <td>None Known</td>\n",
       "      <td>Brazil</td>\n",
       "      <td>7</td>\n",
       "      <td>000000</td>\n",
       "    </tr>\n",
       "  </tbody>\n",
       "</table>\n",
       "</div>"
      ],
      "text/plain": [
       "                                                NAME  YEAR AMOUNT LENDER  \\\n",
       "0            “Lar Patriota\" Infrastructure (Phase 1)  2011   $50M    CDB   \n",
       "1  10-Year Oil Supply Plan (10Mt/Year), \"Oil for ...  2009  $7.0B    CDB   \n",
       "\n",
       "     BORROWER                 SECTOR SENSITIVE TERRITORY OVERLAP Country  \\\n",
       "0  Government              Transport                  None Known  Angola   \n",
       "1   Petrobras  Extraction, pipelines                  None Known  Brazil   \n",
       "\n",
       "  before   after  \n",
       "0  50000          \n",
       "1      7  000000  "
      ]
     },
     "execution_count": 411,
     "metadata": {},
     "output_type": "execute_result"
    }
   ],
   "source": [
    "df['before'] = df['before'].str.replace('B', '000000').str.replace('M', '000').str.replace('$', '')\n",
    "df['after'] = df['after'].str.replace('B', '00000').str.replace('M', '00')\n",
    "df.head(2)"
   ]
  },
  {
   "cell_type": "code",
   "execution_count": 412,
   "metadata": {},
   "outputs": [
    {
     "data": {
      "text/html": [
       "<div>\n",
       "<style scoped>\n",
       "    .dataframe tbody tr th:only-of-type {\n",
       "        vertical-align: middle;\n",
       "    }\n",
       "\n",
       "    .dataframe tbody tr th {\n",
       "        vertical-align: top;\n",
       "    }\n",
       "\n",
       "    .dataframe thead th {\n",
       "        text-align: right;\n",
       "    }\n",
       "</style>\n",
       "<table border=\"1\" class=\"dataframe\">\n",
       "  <thead>\n",
       "    <tr style=\"text-align: right;\">\n",
       "      <th></th>\n",
       "      <th>NAME</th>\n",
       "      <th>YEAR</th>\n",
       "      <th>LENDER</th>\n",
       "      <th>BORROWER</th>\n",
       "      <th>SECTOR</th>\n",
       "      <th>SENSITIVE TERRITORY OVERLAP</th>\n",
       "      <th>Country</th>\n",
       "      <th>AMT</th>\n",
       "    </tr>\n",
       "  </thead>\n",
       "  <tbody>\n",
       "    <tr>\n",
       "      <th>0</th>\n",
       "      <td>“Lar Patriota\" Infrastructure (Phase 1)</td>\n",
       "      <td>2011</td>\n",
       "      <td>CDB</td>\n",
       "      <td>Government</td>\n",
       "      <td>Transport</td>\n",
       "      <td>None Known</td>\n",
       "      <td>Angola</td>\n",
       "      <td>50000</td>\n",
       "    </tr>\n",
       "    <tr>\n",
       "      <th>1</th>\n",
       "      <td>10-Year Oil Supply Plan (10Mt/Year), \"Oil for ...</td>\n",
       "      <td>2009</td>\n",
       "      <td>CDB</td>\n",
       "      <td>Petrobras</td>\n",
       "      <td>Extraction, pipelines</td>\n",
       "      <td>None Known</td>\n",
       "      <td>Brazil</td>\n",
       "      <td>7000000</td>\n",
       "    </tr>\n",
       "  </tbody>\n",
       "</table>\n",
       "</div>"
      ],
      "text/plain": [
       "                                                NAME  YEAR LENDER    BORROWER  \\\n",
       "0            “Lar Patriota\" Infrastructure (Phase 1)  2011    CDB  Government   \n",
       "1  10-Year Oil Supply Plan (10Mt/Year), \"Oil for ...  2009    CDB   Petrobras   \n",
       "\n",
       "                  SECTOR SENSITIVE TERRITORY OVERLAP Country      AMT  \n",
       "0              Transport                  None Known  Angola    50000  \n",
       "1  Extraction, pipelines                  None Known  Brazil  7000000  "
      ]
     },
     "execution_count": 412,
     "metadata": {},
     "output_type": "execute_result"
    }
   ],
   "source": [
    "df['AMT'] = df['before'] + df['after']\n",
    "df.drop(['before', 'after', 'AMOUNT'], axis=1, inplace=True)\n",
    "df.head(2)"
   ]
  },
  {
   "cell_type": "code",
   "execution_count": 413,
   "metadata": {},
   "outputs": [
    {
     "data": {
      "text/plain": [
       "NAME                                   object\n",
       "YEAR                           datetime64[ns]\n",
       "LENDER                                 object\n",
       "BORROWER                               object\n",
       "SECTOR                                 object\n",
       "SENSITIVE TERRITORY OVERLAP            object\n",
       "Country                                object\n",
       "AMT                                     int32\n",
       "dtype: object"
      ]
     },
     "execution_count": 413,
     "metadata": {},
     "output_type": "execute_result"
    }
   ],
   "source": [
    "df['AMT'] = df['AMT'].astype(int)\n",
    "df['BORROWER'] = df['BORROWER'].astype(str)\n",
    "df['YEAR'] = pd.to_datetime(df['YEAR'], format='%Y')\n",
    "df.dtypes"
   ]
  },
  {
   "cell_type": "code",
   "execution_count": 414,
   "metadata": {},
   "outputs": [
    {
     "data": {
      "text/html": [
       "<div>\n",
       "<style scoped>\n",
       "    .dataframe tbody tr th:only-of-type {\n",
       "        vertical-align: middle;\n",
       "    }\n",
       "\n",
       "    .dataframe tbody tr th {\n",
       "        vertical-align: top;\n",
       "    }\n",
       "\n",
       "    .dataframe thead th {\n",
       "        text-align: right;\n",
       "    }\n",
       "</style>\n",
       "<table border=\"1\" class=\"dataframe\">\n",
       "  <thead>\n",
       "    <tr style=\"text-align: right;\">\n",
       "      <th></th>\n",
       "      <th>Amount</th>\n",
       "    </tr>\n",
       "    <tr>\n",
       "      <th>Country</th>\n",
       "      <th></th>\n",
       "    </tr>\n",
       "  </thead>\n",
       "  <tbody>\n",
       "    <tr>\n",
       "      <th>Angola</th>\n",
       "      <td>29640000</td>\n",
       "    </tr>\n",
       "    <tr>\n",
       "      <th>Argentina</th>\n",
       "      <td>17083000</td>\n",
       "    </tr>\n",
       "    <tr>\n",
       "      <th>Bangladesh</th>\n",
       "      <td>11089000</td>\n",
       "    </tr>\n",
       "    <tr>\n",
       "      <th>Belarus</th>\n",
       "      <td>6440000</td>\n",
       "    </tr>\n",
       "    <tr>\n",
       "      <th>Bolivia</th>\n",
       "      <td>3439000</td>\n",
       "    </tr>\n",
       "  </tbody>\n",
       "</table>\n",
       "</div>"
      ],
      "text/plain": [
       "              Amount\n",
       "Country             \n",
       "Angola      29640000\n",
       "Argentina   17083000\n",
       "Bangladesh  11089000\n",
       "Belarus      6440000\n",
       "Bolivia      3439000"
      ]
     },
     "execution_count": 414,
     "metadata": {},
     "output_type": "execute_result"
    }
   ],
   "source": [
    "# Grouping by Country and summing them up\n",
    "country_group = df.groupby(['Country']).sum()['AMT']\n",
    "\n",
    "# Created a new dataframe for the grouped countries\n",
    "country_df = pd.DataFrame({\n",
    "                    'Amount': country_group\n",
    "})\n",
    "\n",
    "# Include country if it has more than 1,000,000 M\n",
    "country_df = country_df[country_df['Amount'] > 1000000]\n",
    "country_df.head(5)"
   ]
  },
  {
   "cell_type": "code",
   "execution_count": 415,
   "metadata": {},
   "outputs": [
    {
     "data": {
      "image/png": "[encoded data removed]",
      "text/plain": [
       "<Figure size 1440x576 with 1 Axes>"
      ]
     },
     "metadata": {
      "needs_background": "light"
     },
     "output_type": "display_data"
    }
   ],
   "source": [
    "# Plotting the graph\n",
    "country_df.plot(kind='bar', figsize=(20,8))\n",
    "plt.title('Sum of Chinese Investment in Each Country')\n",
    "plt.xlabel('Country')\n",
    "plt.ylabel('Sum of Investment (Billions)')\n",
    "plt.xticks(rotation=80)\n",
    "plt.show()"
   ]
  },
  {
   "cell_type": "code",
   "execution_count": null,
   "metadata": {},
   "outputs": [],
   "source": []
  }
 ],
 "metadata": {
  "kernelspec": {
   "display_name": "Python 3.7.11 ('PythonData')",
   "language": "python",
   "name": "python3"
  },
  "language_info": {
   "codemirror_mode": {
    "name": "ipython",
    "version": 3
   },
   "file_extension": ".py",
   "mimetype": "text/x-python",
   "name": "python",
   "nbconvert_exporter": "python",
   "pygments_lexer": "ipython3",
   "version": "3.7.11"
  },
  "orig_nbformat": 4,
  "vscode": {
   "interpreter": {
    "hash": "37f3db258f14cacf8fd4609cda07f78717334142a177821fac245d466de6a5bf"
   }
  }
 },
 "nbformat": 4,
 "nbformat_minor": 2
}
